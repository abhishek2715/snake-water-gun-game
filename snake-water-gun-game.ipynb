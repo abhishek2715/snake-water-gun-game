{
 "cells": [
  {
   "cell_type": "markdown",
   "metadata": {},
   "source": [
    "# snake-water-gun-game\n",
    "\n",
    "Use the \"Run\" button to execute the code."
   ]
  },
  {
   "cell_type": "code",
   "execution_count": 1,
   "metadata": {
    "code_folding": []
   },
   "outputs": [
    {
     "name": "stdout",
     "output_type": "stream",
     "text": [
      "Enter '0' for Snake, '1' for water and '2' for gun\n",
      "0\n",
      "You Won!!!\n",
      "Enter '0' for Snake, '1' for water and '2' for gun\n",
      "0\n",
      "You Won!!!\n",
      "Enter '0' for Snake, '1' for water and '2' for gun\n",
      "0\n",
      "Match Tied!\n",
      "Enter '0' for Snake, '1' for water and '2' for gun\n",
      "0\n",
      "Match Tied!\n",
      "Enter '0' for Snake, '1' for water and '2' for gun\n",
      "0\n",
      "Match Tied!\n",
      "Enter '0' for Snake, '1' for water and '2' for gun\n",
      "0\n",
      "You Lose!!\n",
      "Enter '0' for Snake, '1' for water and '2' for gun\n",
      "0\n",
      "Match Tied!\n",
      "Enter '0' for Snake, '1' for water and '2' for gun\n",
      "0\n",
      "You Lose!!\n",
      "Enter '0' for Snake, '1' for water and '2' for gun\n",
      "0\n",
      "You Won!!!\n",
      "Enter '0' for Snake, '1' for water and '2' for gun\n",
      "0\n",
      "You Lose!!\n",
      "You have won 3 out of 10 Matches\n"
     ]
    }
   ],
   "source": [
    "import random\n",
    "\n",
    "def check_value (user,comp):\n",
    "    #if you and computer make a same choice, returns a tie\n",
    "    if user == comp:\n",
    "        return 0\n",
    "    #you chose water and computer choses snake, returns -1 (loss)\n",
    "    if user == 1 and comp ==0:\n",
    "        return -1\n",
    "    #you chose gun and computer choses water, returns -1 (loss)\n",
    "    if user == 2 and comp == 1:\n",
    "        return -1\n",
    "    #you chose snake and computer choses gun, returns -1 (loss)\n",
    "    if user == 0 and comp == 2:\n",
    "        return -1\n",
    "    #when you are not losing or tying, means you are winning, therefore returning 1 (win)\n",
    "    return 1\n",
    "\n",
    "points=0\n",
    "\n",
    "for i in range(10):\n",
    "    \n",
    "    user = int(input(\"Enter '0' for Snake, '1' for water and '2' for gun\\n\"))\n",
    "    comp = random.randint(0,2)\n",
    "    score = check_value(user,comp)\n",
    "    if score== -1:\n",
    "        print (\"You Lose!!\")\n",
    "    if score== 0:\n",
    "        print (\"Match Tied!\")\n",
    "    if score== 1:\n",
    "        points+=1\n",
    "        print (\"You Won!!!\")\n",
    "    \n",
    "print(f\"You have won {points} out of 10 Matches\")"
   ]
  },
  {
   "cell_type": "code",
   "execution_count": null,
   "metadata": {},
   "outputs": [],
   "source": []
  },
  {
   "cell_type": "code",
   "execution_count": null,
   "metadata": {},
   "outputs": [],
   "source": []
  },
  {
   "cell_type": "code",
   "execution_count": null,
   "metadata": {},
   "outputs": [],
   "source": []
  },
  {
   "cell_type": "code",
   "execution_count": null,
   "metadata": {},
   "outputs": [],
   "source": []
  },
  {
   "cell_type": "code",
   "execution_count": null,
   "metadata": {},
   "outputs": [],
   "source": []
  },
  {
   "cell_type": "code",
   "execution_count": null,
   "metadata": {},
   "outputs": [],
   "source": []
  },
  {
   "cell_type": "code",
   "execution_count": null,
   "metadata": {},
   "outputs": [],
   "source": []
  }
 ],
 "metadata": {
  "language_info": {
   "codemirror_mode": {
    "name": "ipython",
    "version": 3
   },
   "file_extension": ".py",
   "mimetype": "text/x-python",
   "name": "python",
   "nbconvert_exporter": "python",
   "pygments_lexer": "ipython3",
   "version": "3.9.7"
  }
 },
 "nbformat": 4,
 "nbformat_minor": 2
}